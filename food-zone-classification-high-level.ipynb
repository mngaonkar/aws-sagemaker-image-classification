{
 "cells": [
  {
   "cell_type": "code",
   "execution_count": 62,
   "metadata": {},
   "outputs": [],
   "source": [
    "import time\n",
    "import boto3\n",
    "import sagemaker\n",
    "from sagemaker import get_execution_role\n",
    "from sagemaker.amazon.amazon_estimator import get_image_uri\n",
    "from sagemaker.tuner import IntegerParameter, CategoricalParameter, ContinuousParameter, HyperparameterTuner\n",
    "from sagemaker.predictor import RealTimePredictor\n",
    "from sagemaker.model import Model\n",
    "import json\n",
    "import numpy as np"
   ]
  },
  {
   "cell_type": "code",
   "execution_count": 2,
   "metadata": {},
   "outputs": [],
   "source": [
    "# Number of output classes\n",
    "num_classes = 2\n",
    "\n",
    "# Number of training sample in training set\n",
    "num_training_samples = 208\n",
    "\n",
    "# Number of layers for neural network\n",
    "num_layers = 18\n",
    "\n",
    "# Image augmentation\n",
    "augmentation_type = \"crop_color_transform\"\n",
    "\n",
    "# Batch size for training\n",
    "mini_batch_size = 64\n",
    "\n",
    "# Input image shape\n",
    "image_shape = '3,50,50'\n",
    "\n",
    "epochs = 50\n",
    "\n",
    "learning_rate = 0.001\n",
    "\n",
    "use_pretrained_model = 1"
   ]
  },
  {
   "cell_type": "code",
   "execution_count": 3,
   "metadata": {},
   "outputs": [
    {
     "name": "stdout",
     "output_type": "stream",
     "text": [
      "food-zone-2020-03-10-07-18\n"
     ]
    }
   ],
   "source": [
    "job_name_prefix = \"food-zone\"\n",
    "timestamp = time.strftime('-%Y-%m-%d-%H-%S', time.gmtime())\n",
    "job_name = job_name_prefix + timestamp\n",
    "print(job_name)"
   ]
  },
  {
   "cell_type": "code",
   "execution_count": 4,
   "metadata": {},
   "outputs": [],
   "source": [
    "bucket = 'food-zone'\n",
    "input_prefix = 'input/recordio'\n",
    "input_train = 's3://{}/{}/train'.format(bucket, input_prefix)\n",
    "input_test = 's3://{}/{}/test'.format(bucket, input_prefix)"
   ]
  },
  {
   "cell_type": "code",
   "execution_count": 5,
   "metadata": {},
   "outputs": [],
   "source": [
    "output_prefix = \"/output\"\n",
    "output_path = 's3://{}/{}'.format(bucket, output_prefix)"
   ]
  },
  {
   "cell_type": "code",
   "execution_count": 6,
   "metadata": {},
   "outputs": [],
   "source": [
    "instance_count = 1\n",
    "instance_type = 'ml.p2.xlarge'\n",
    "volume_size_gb = 5"
   ]
  },
  {
   "cell_type": "code",
   "execution_count": 7,
   "metadata": {},
   "outputs": [],
   "source": [
    "role = get_execution_role()\n",
    "training_image = get_image_uri(boto3.Session().region_name, 'image-classification')"
   ]
  },
  {
   "cell_type": "code",
   "execution_count": 8,
   "metadata": {},
   "outputs": [],
   "source": [
    "train_timeout = 3600"
   ]
  },
  {
   "cell_type": "code",
   "execution_count": 9,
   "metadata": {},
   "outputs": [],
   "source": [
    "session = sagemaker.Session()\n",
    "estimator = sagemaker.estimator.Estimator(training_image,\n",
    "                                         role,\n",
    "                                         train_instance_count=instance_count,\n",
    "                                         train_instance_type=instance_type,\n",
    "                                         train_volume_size=volume_size_gb,\n",
    "                                         train_max_run=train_timeout,\n",
    "                                         output_path=output_path,\n",
    "                                         sagemaker_session=session,\n",
    "                                         input_mode='Pipe')"
   ]
  },
  {
   "cell_type": "code",
   "execution_count": 10,
   "metadata": {},
   "outputs": [],
   "source": [
    "estimator.set_hyperparameters(num_classes=num_classes,\n",
    "                             num_training_samples=num_training_samples,\n",
    "                             num_layers=num_layers,\n",
    "                             mini_batch_size=mini_batch_size,\n",
    "                             augmentation_type=augmentation_type,\n",
    "                             epochs=epochs,\n",
    "                             image_shape=image_shape,\n",
    "                             learning_rate=learning_rate,\n",
    "                             use_pretrained_model=use_pretrained_model)"
   ]
  },
  {
   "cell_type": "code",
   "execution_count": 11,
   "metadata": {},
   "outputs": [],
   "source": [
    "s3_input_train = sagemaker.s3_input(s3_data=input_train, content_type='application/x-recordio')\n",
    "s3_input_validation = sagemaker.s3_input(s3_data=input_test, content_type='application/x-recordio')"
   ]
  },
  {
   "cell_type": "code",
   "execution_count": 110,
   "metadata": {},
   "outputs": [
    {
     "name": "stdout",
     "output_type": "stream",
     "text": [
      "2020-03-09 19:48:34 Starting - Starting the training job...\n",
      "2020-03-09 19:48:36 Starting - Launching requested ML instances......\n",
      "2020-03-09 19:49:42 Starting - Preparing the instances for training.........\n",
      "2020-03-09 19:51:18 Downloading - Downloading input data...\n",
      "2020-03-09 19:51:56 Training - Downloading the training image......\n",
      "2020-03-09 19:53:01 Training - Training image download completed. Training in progress..\u001b[34mDocker entrypoint called with argument(s): train\u001b[0m\n",
      "\u001b[34m[03/09/2020 19:53:05 INFO 139733361231680] Reading default configuration from /opt/amazon/lib/python2.7/site-packages/image_classification/default-input.json: {u'beta_1': 0.9, u'gamma': 0.9, u'beta_2': 0.999, u'optimizer': u'sgd', u'use_pretrained_model': 0, u'eps': 1e-08, u'epochs': 30, u'lr_scheduler_factor': 0.1, u'num_layers': 152, u'image_shape': u'3,224,224', u'precision_dtype': u'float32', u'mini_batch_size': 32, u'weight_decay': 0.0001, u'learning_rate': 0.1, u'momentum': 0}\u001b[0m\n",
      "\u001b[34m[03/09/2020 19:53:05 INFO 139733361231680] Merging with provided configuration from /opt/ml/input/config/hyperparameters.json: {u'learning_rate': u'0.001', u'use_pretrained_model': u'1', u'epochs': u'50', u'augmentation_type': u'crop_color_transform', u'num_layers': u'18', u'mini_batch_size': u'64', u'image_shape': u'3,50,50', u'num_classes': u'2', u'num_training_samples': u'208'}\u001b[0m\n",
      "\u001b[34m[03/09/2020 19:53:05 INFO 139733361231680] Final configuration: {u'optimizer': u'sgd', u'learning_rate': u'0.001', u'epochs': u'50', u'lr_scheduler_factor': 0.1, u'num_layers': u'18', u'num_classes': u'2', u'precision_dtype': u'float32', u'mini_batch_size': u'64', u'augmentation_type': u'crop_color_transform', u'beta_1': 0.9, u'beta_2': 0.999, u'use_pretrained_model': u'1', u'eps': 1e-08, u'weight_decay': 0.0001, u'momentum': 0, u'image_shape': u'3,50,50', u'gamma': 0.9, u'num_training_samples': u'208'}\u001b[0m\n",
      "\u001b[34m[03/09/2020 19:53:05 INFO 139733361231680] use_pretrained_model: 1\u001b[0m\n",
      "\u001b[34m[03/09/2020 19:53:05 INFO 139733361231680] multi_label: 0\u001b[0m\n",
      "\u001b[34m[03/09/2020 19:53:05 INFO 139733361231680] Using pretrained model for initializing weights and transfer learning.\u001b[0m\n",
      "\u001b[34m[03/09/2020 19:53:05 INFO 139733361231680] ---- Parameters ----\u001b[0m\n",
      "\u001b[34m[03/09/2020 19:53:05 INFO 139733361231680] num_layers: 18\u001b[0m\n",
      "\u001b[34m[03/09/2020 19:53:05 INFO 139733361231680] data type: <type 'numpy.float32'>\u001b[0m\n",
      "\u001b[34m[03/09/2020 19:53:05 INFO 139733361231680] epochs: 50\u001b[0m\n",
      "\u001b[34m[03/09/2020 19:53:05 INFO 139733361231680] optimizer: sgd\u001b[0m\n",
      "\u001b[34m[03/09/2020 19:53:05 INFO 139733361231680] momentum: 0.9\u001b[0m\n",
      "\u001b[34m[03/09/2020 19:53:05 INFO 139733361231680] weight_decay: 0.0001\u001b[0m\n",
      "\u001b[34m[03/09/2020 19:53:05 INFO 139733361231680] learning_rate: 0.001\u001b[0m\n",
      "\u001b[34m[03/09/2020 19:53:05 INFO 139733361231680] num_training_samples: 208\u001b[0m\n",
      "\u001b[34m[03/09/2020 19:53:05 INFO 139733361231680] mini_batch_size: 64\u001b[0m\n",
      "\u001b[34m[03/09/2020 19:53:05 INFO 139733361231680] image_shape: 3,50,50\u001b[0m\n",
      "\u001b[34m[03/09/2020 19:53:05 INFO 139733361231680] num_classes: 2\u001b[0m\n",
      "\u001b[34m[03/09/2020 19:53:05 INFO 139733361231680] augmentation_type: crop_color_transform\u001b[0m\n",
      "\u001b[34m[03/09/2020 19:53:05 INFO 139733361231680] kv_store: device\u001b[0m\n",
      "\u001b[34m[03/09/2020 19:53:05 INFO 139733361231680] checkpoint_frequency not set, will store the best model\u001b[0m\n",
      "\u001b[34m[03/09/2020 19:53:05 INFO 139733361231680] --------------------\u001b[0m\n",
      "\u001b[34m[19:53:05] /opt/brazil-pkg-cache/packages/AIAlgorithmsMXNet/AIAlgorithmsMXNet-1.3.x_ecl_Cuda_10.1.x.2523.0/AL2012/generic-flavor/src/src/nnvm/legacy_json_util.cc:209: Loading symbol saved by previous version v0.8.0. Attempting to upgrade...\u001b[0m\n",
      "\u001b[34m[19:53:05] /opt/brazil-pkg-cache/packages/AIAlgorithmsMXNet/AIAlgorithmsMXNet-1.3.x_ecl_Cuda_10.1.x.2523.0/AL2012/generic-flavor/src/src/nnvm/legacy_json_util.cc:217: Symbol successfully upgraded!\u001b[0m\n",
      "\u001b[34m[03/09/2020 19:53:05 INFO 139733361231680] Setting number of threads: 3\u001b[0m\n",
      "\u001b[34m[19:53:12] /opt/brazil-pkg-cache/packages/AIAlgorithmsMXNet/AIAlgorithmsMXNet-1.3.x_ecl_Cuda_10.1.x.2523.0/AL2012/generic-flavor/src/src/operator/nn/./cudnn/./cudnn_algoreg-inl.h:97: Running performance tests to find the best convolution algorithm, this can take a while... (setting env variable MXNET_CUDNN_AUTOTUNE_DEFAULT to 0 to disable)\u001b[0m\n",
      "\u001b[34m[03/09/2020 19:53:16 INFO 139733361231680] Epoch[0] Train-accuracy=0.510417\u001b[0m\n",
      "\u001b[34m[03/09/2020 19:53:16 INFO 139733361231680] Epoch[0] Time cost=4.122\u001b[0m\n",
      "\u001b[34m[03/09/2020 19:53:16 INFO 139733361231680] Epoch[0] Validation-accuracy=0.343750\u001b[0m\n",
      "\u001b[34m[03/09/2020 19:53:16 INFO 139733361231680] Storing the best model with validation accuracy: 0.343750\u001b[0m\n",
      "\u001b[34m[03/09/2020 19:53:16 INFO 139733361231680] Saved checkpoint to \"/opt/ml/model/image-classification-0001.params\"\u001b[0m\n",
      "\u001b[34m[03/09/2020 19:53:19 INFO 139733361231680] Epoch[1] Train-accuracy=0.510417\u001b[0m\n",
      "\u001b[34m[03/09/2020 19:53:19 INFO 139733361231680] Epoch[1] Time cost=2.801\u001b[0m\n",
      "\u001b[34m[03/09/2020 19:53:20 INFO 139733361231680] Epoch[1] Validation-accuracy=0.710938\u001b[0m\n",
      "\u001b[34m[03/09/2020 19:53:20 INFO 139733361231680] Storing the best model with validation accuracy: 0.710938\u001b[0m\n",
      "\u001b[34m[03/09/2020 19:53:20 INFO 139733361231680] Saved checkpoint to \"/opt/ml/model/image-classification-0002.params\"\u001b[0m\n",
      "\u001b[34m[03/09/2020 19:53:22 INFO 139733361231680] Epoch[2] Train-accuracy=0.609375\u001b[0m\n",
      "\u001b[34m[03/09/2020 19:53:22 INFO 139733361231680] Epoch[2] Time cost=2.353\u001b[0m\n",
      "\u001b[34m[03/09/2020 19:53:23 INFO 139733361231680] Epoch[2] Validation-accuracy=0.406250\u001b[0m\n",
      "\u001b[34m[03/09/2020 19:53:26 INFO 139733361231680] Epoch[3] Train-accuracy=0.557292\u001b[0m\n",
      "\u001b[34m[03/09/2020 19:53:26 INFO 139733361231680] Epoch[3] Time cost=2.400\u001b[0m\n",
      "\u001b[34m[03/09/2020 19:53:26 INFO 139733361231680] Epoch[3] Validation-accuracy=0.414062\u001b[0m\n",
      "\u001b[34m[03/09/2020 19:53:29 INFO 139733361231680] Epoch[4] Train-accuracy=0.598958\u001b[0m\n",
      "\u001b[34m[03/09/2020 19:53:29 INFO 139733361231680] Epoch[4] Time cost=2.442\u001b[0m\n",
      "\u001b[34m[03/09/2020 19:53:29 INFO 139733361231680] Epoch[4] Validation-accuracy=0.437500\u001b[0m\n",
      "\u001b[34m[03/09/2020 19:53:32 INFO 139733361231680] Epoch[5] Train-accuracy=0.671875\u001b[0m\n",
      "\u001b[34m[03/09/2020 19:53:32 INFO 139733361231680] Epoch[5] Time cost=2.386\u001b[0m\n",
      "\u001b[34m[03/09/2020 19:53:32 INFO 139733361231680] Epoch[5] Validation-accuracy=0.398438\u001b[0m\n",
      "\u001b[34m[03/09/2020 19:53:35 INFO 139733361231680] Epoch[6] Train-accuracy=0.651042\u001b[0m\n",
      "\u001b[34m[03/09/2020 19:53:35 INFO 139733361231680] Epoch[6] Time cost=2.372\u001b[0m\n",
      "\u001b[34m[03/09/2020 19:53:36 INFO 139733361231680] Epoch[6] Validation-accuracy=0.398438\u001b[0m\n",
      "\u001b[34m[03/09/2020 19:53:38 INFO 139733361231680] Epoch[7] Train-accuracy=0.609375\u001b[0m\n",
      "\u001b[34m[03/09/2020 19:53:38 INFO 139733361231680] Epoch[7] Time cost=2.372\u001b[0m\n",
      "\u001b[34m[03/09/2020 19:53:39 INFO 139733361231680] Epoch[7] Validation-accuracy=0.406250\u001b[0m\n",
      "\u001b[34m[03/09/2020 19:53:41 INFO 139733361231680] Epoch[8] Train-accuracy=0.609375\u001b[0m\n",
      "\u001b[34m[03/09/2020 19:53:41 INFO 139733361231680] Epoch[8] Time cost=2.338\u001b[0m\n",
      "\u001b[34m[03/09/2020 19:53:42 INFO 139733361231680] Epoch[8] Validation-accuracy=0.406250\u001b[0m\n",
      "\u001b[34m[03/09/2020 19:53:45 INFO 139733361231680] Epoch[9] Train-accuracy=0.630208\u001b[0m\n",
      "\u001b[34m[03/09/2020 19:53:45 INFO 139733361231680] Epoch[9] Time cost=2.429\u001b[0m\n",
      "\u001b[34m[03/09/2020 19:53:45 INFO 139733361231680] Epoch[9] Validation-accuracy=0.382812\u001b[0m\n",
      "\u001b[34m[03/09/2020 19:53:48 INFO 139733361231680] Epoch[10] Train-accuracy=0.630208\u001b[0m\n",
      "\u001b[34m[03/09/2020 19:53:48 INFO 139733361231680] Epoch[10] Time cost=2.392\u001b[0m\n",
      "\u001b[34m[03/09/2020 19:53:48 INFO 139733361231680] Epoch[10] Validation-accuracy=0.375000\u001b[0m\n",
      "\u001b[34m[03/09/2020 19:53:51 INFO 139733361231680] Epoch[11] Train-accuracy=0.598958\u001b[0m\n",
      "\u001b[34m[03/09/2020 19:53:51 INFO 139733361231680] Epoch[11] Time cost=2.368\u001b[0m\n",
      "\u001b[34m[03/09/2020 19:53:51 INFO 139733361231680] Epoch[11] Validation-accuracy=0.406250\u001b[0m\n",
      "\u001b[34m[03/09/2020 19:53:54 INFO 139733361231680] Epoch[12] Train-accuracy=0.677083\u001b[0m\n",
      "\u001b[34m[03/09/2020 19:53:54 INFO 139733361231680] Epoch[12] Time cost=2.394\u001b[0m\n",
      "\u001b[34m[03/09/2020 19:53:55 INFO 139733361231680] Epoch[12] Validation-accuracy=0.390625\u001b[0m\n",
      "\u001b[34m[03/09/2020 19:53:57 INFO 139733361231680] Epoch[13] Train-accuracy=0.609375\u001b[0m\n",
      "\u001b[34m[03/09/2020 19:53:57 INFO 139733361231680] Epoch[13] Time cost=2.324\u001b[0m\n",
      "\u001b[34m[03/09/2020 19:53:58 INFO 139733361231680] Epoch[13] Validation-accuracy=0.398438\u001b[0m\n",
      "\u001b[34m[03/09/2020 19:54:00 INFO 139733361231680] Epoch[14] Train-accuracy=0.651042\u001b[0m\n",
      "\u001b[34m[03/09/2020 19:54:00 INFO 139733361231680] Epoch[14] Time cost=2.355\u001b[0m\n",
      "\u001b[34m[03/09/2020 19:54:01 INFO 139733361231680] Epoch[14] Validation-accuracy=0.429688\u001b[0m\n"
     ]
    },
    {
     "name": "stdout",
     "output_type": "stream",
     "text": [
      "\u001b[34m[03/09/2020 19:54:03 INFO 139733361231680] Epoch[15] Train-accuracy=0.640625\u001b[0m\n",
      "\u001b[34m[03/09/2020 19:54:03 INFO 139733361231680] Epoch[15] Time cost=2.390\u001b[0m\n",
      "\u001b[34m[03/09/2020 19:54:04 INFO 139733361231680] Epoch[15] Validation-accuracy=0.421875\u001b[0m\n",
      "\u001b[34m[03/09/2020 19:54:07 INFO 139733361231680] Epoch[16] Train-accuracy=0.671875\u001b[0m\n",
      "\u001b[34m[03/09/2020 19:54:07 INFO 139733361231680] Epoch[16] Time cost=2.347\u001b[0m\n",
      "\u001b[34m[03/09/2020 19:54:07 INFO 139733361231680] Epoch[16] Validation-accuracy=0.414062\u001b[0m\n",
      "\u001b[34m[03/09/2020 19:54:10 INFO 139733361231680] Epoch[17] Train-accuracy=0.682292\u001b[0m\n",
      "\u001b[34m[03/09/2020 19:54:10 INFO 139733361231680] Epoch[17] Time cost=2.434\u001b[0m\n",
      "\u001b[34m[03/09/2020 19:54:10 INFO 139733361231680] Epoch[17] Validation-accuracy=0.429688\u001b[0m\n",
      "\u001b[34m[03/09/2020 19:54:13 INFO 139733361231680] Epoch[18] Train-accuracy=0.651042\u001b[0m\n",
      "\u001b[34m[03/09/2020 19:54:13 INFO 139733361231680] Epoch[18] Time cost=2.344\u001b[0m\n",
      "\u001b[34m[03/09/2020 19:54:13 INFO 139733361231680] Epoch[18] Validation-accuracy=0.437500\u001b[0m\n",
      "\u001b[34m[03/09/2020 19:54:16 INFO 139733361231680] Epoch[19] Train-accuracy=0.619792\u001b[0m\n",
      "\u001b[34m[03/09/2020 19:54:16 INFO 139733361231680] Epoch[19] Time cost=2.392\u001b[0m\n",
      "\u001b[34m[03/09/2020 19:54:17 INFO 139733361231680] Epoch[19] Validation-accuracy=0.429688\u001b[0m\n",
      "\u001b[34m[03/09/2020 19:54:19 INFO 139733361231680] Epoch[20] Train-accuracy=0.661458\u001b[0m\n",
      "\u001b[34m[03/09/2020 19:54:19 INFO 139733361231680] Epoch[20] Time cost=2.333\u001b[0m\n",
      "\u001b[34m[03/09/2020 19:54:20 INFO 139733361231680] Epoch[20] Validation-accuracy=0.437500\u001b[0m\n",
      "\u001b[34m[03/09/2020 19:54:22 INFO 139733361231680] Epoch[21] Train-accuracy=0.692708\u001b[0m\n",
      "\u001b[34m[03/09/2020 19:54:22 INFO 139733361231680] Epoch[21] Time cost=2.340\u001b[0m\n",
      "\u001b[34m[03/09/2020 19:54:23 INFO 139733361231680] Epoch[21] Validation-accuracy=0.429688\u001b[0m\n",
      "\u001b[34m[03/09/2020 19:54:25 INFO 139733361231680] Epoch[22] Train-accuracy=0.666667\u001b[0m\n",
      "\u001b[34m[03/09/2020 19:54:25 INFO 139733361231680] Epoch[22] Time cost=2.376\u001b[0m\n",
      "\u001b[34m[03/09/2020 19:54:26 INFO 139733361231680] Epoch[22] Validation-accuracy=0.437500\u001b[0m\n",
      "\u001b[34m[03/09/2020 19:54:29 INFO 139733361231680] Epoch[23] Train-accuracy=0.635417\u001b[0m\n",
      "\u001b[34m[03/09/2020 19:54:29 INFO 139733361231680] Epoch[23] Time cost=2.388\u001b[0m\n",
      "\u001b[34m[03/09/2020 19:54:29 INFO 139733361231680] Epoch[23] Validation-accuracy=0.437500\u001b[0m\n",
      "\u001b[34m[03/09/2020 19:54:32 INFO 139733361231680] Epoch[24] Train-accuracy=0.687500\u001b[0m\n",
      "\u001b[34m[03/09/2020 19:54:32 INFO 139733361231680] Epoch[24] Time cost=2.345\u001b[0m\n",
      "\u001b[34m[03/09/2020 19:54:32 INFO 139733361231680] Epoch[24] Validation-accuracy=0.445312\u001b[0m\n",
      "\u001b[34m[03/09/2020 19:54:35 INFO 139733361231680] Epoch[25] Train-accuracy=0.619792\u001b[0m\n",
      "\u001b[34m[03/09/2020 19:54:35 INFO 139733361231680] Epoch[25] Time cost=2.387\u001b[0m\n",
      "\u001b[34m[03/09/2020 19:54:35 INFO 139733361231680] Epoch[25] Validation-accuracy=0.429688\u001b[0m\n",
      "\u001b[34m[03/09/2020 19:54:38 INFO 139733361231680] Epoch[26] Train-accuracy=0.677083\u001b[0m\n",
      "\u001b[34m[03/09/2020 19:54:38 INFO 139733361231680] Epoch[26] Time cost=2.339\u001b[0m\n",
      "\u001b[34m[03/09/2020 19:54:38 INFO 139733361231680] Epoch[26] Validation-accuracy=0.398438\u001b[0m\n",
      "\u001b[34m[03/09/2020 19:54:41 INFO 139733361231680] Epoch[27] Train-accuracy=0.661458\u001b[0m\n",
      "\u001b[34m[03/09/2020 19:54:41 INFO 139733361231680] Epoch[27] Time cost=2.346\u001b[0m\n",
      "\u001b[34m[03/09/2020 19:54:42 INFO 139733361231680] Epoch[27] Validation-accuracy=0.398438\u001b[0m\n",
      "\u001b[34m[03/09/2020 19:54:44 INFO 139733361231680] Epoch[28] Train-accuracy=0.671875\u001b[0m\n",
      "\u001b[34m[03/09/2020 19:54:44 INFO 139733361231680] Epoch[28] Time cost=2.428\u001b[0m\n",
      "\u001b[34m[03/09/2020 19:54:45 INFO 139733361231680] Epoch[28] Validation-accuracy=0.429688\u001b[0m\n",
      "\u001b[34m[03/09/2020 19:54:47 INFO 139733361231680] Epoch[29] Train-accuracy=0.703125\u001b[0m\n",
      "\u001b[34m[03/09/2020 19:54:47 INFO 139733361231680] Epoch[29] Time cost=2.386\u001b[0m\n",
      "\u001b[34m[03/09/2020 19:54:48 INFO 139733361231680] Epoch[29] Validation-accuracy=0.421875\u001b[0m\n",
      "\u001b[34m[03/09/2020 19:54:51 INFO 139733361231680] Epoch[30] Train-accuracy=0.651042\u001b[0m\n",
      "\u001b[34m[03/09/2020 19:54:51 INFO 139733361231680] Epoch[30] Time cost=2.398\u001b[0m\n",
      "\u001b[34m[03/09/2020 19:54:51 INFO 139733361231680] Epoch[30] Validation-accuracy=0.398438\u001b[0m\n",
      "\u001b[34m[03/09/2020 19:54:54 INFO 139733361231680] Epoch[31] Train-accuracy=0.619792\u001b[0m\n",
      "\u001b[34m[03/09/2020 19:54:54 INFO 139733361231680] Epoch[31] Time cost=2.392\u001b[0m\n",
      "\u001b[34m[03/09/2020 19:54:54 INFO 139733361231680] Epoch[31] Validation-accuracy=0.398438\u001b[0m\n",
      "\u001b[34m[03/09/2020 19:54:57 INFO 139733361231680] Epoch[32] Train-accuracy=0.692708\u001b[0m\n",
      "\u001b[34m[03/09/2020 19:54:57 INFO 139733361231680] Epoch[32] Time cost=2.347\u001b[0m\n",
      "\u001b[34m[03/09/2020 19:54:57 INFO 139733361231680] Epoch[32] Validation-accuracy=0.406250\u001b[0m\n",
      "\u001b[34m[03/09/2020 19:55:00 INFO 139733361231680] Epoch[33] Train-accuracy=0.703125\u001b[0m\n",
      "\u001b[34m[03/09/2020 19:55:00 INFO 139733361231680] Epoch[33] Time cost=2.443\u001b[0m\n",
      "\u001b[34m[03/09/2020 19:55:01 INFO 139733361231680] Epoch[33] Validation-accuracy=0.382812\u001b[0m\n",
      "\u001b[34m[03/09/2020 19:55:03 INFO 139733361231680] Epoch[34] Train-accuracy=0.713542\u001b[0m\n",
      "\u001b[34m[03/09/2020 19:55:03 INFO 139733361231680] Epoch[34] Time cost=2.355\u001b[0m\n",
      "\u001b[34m[03/09/2020 19:55:04 INFO 139733361231680] Epoch[34] Validation-accuracy=0.398438\u001b[0m\n",
      "\u001b[34m[03/09/2020 19:55:06 INFO 139733361231680] Epoch[35] Train-accuracy=0.635417\u001b[0m\n",
      "\u001b[34m[03/09/2020 19:55:06 INFO 139733361231680] Epoch[35] Time cost=2.374\u001b[0m\n",
      "\u001b[34m[03/09/2020 19:55:07 INFO 139733361231680] Epoch[35] Validation-accuracy=0.398438\u001b[0m\n",
      "\u001b[34m[03/09/2020 19:55:09 INFO 139733361231680] Epoch[36] Train-accuracy=0.630208\u001b[0m\n",
      "\u001b[34m[03/09/2020 19:55:09 INFO 139733361231680] Epoch[36] Time cost=2.371\u001b[0m\n",
      "\u001b[34m[03/09/2020 19:55:10 INFO 139733361231680] Epoch[36] Validation-accuracy=0.437500\u001b[0m\n",
      "\u001b[34m[03/09/2020 19:55:13 INFO 139733361231680] Epoch[37] Train-accuracy=0.677083\u001b[0m\n",
      "\u001b[34m[03/09/2020 19:55:13 INFO 139733361231680] Epoch[37] Time cost=2.340\u001b[0m\n",
      "\u001b[34m[03/09/2020 19:55:13 INFO 139733361231680] Epoch[37] Validation-accuracy=0.429688\u001b[0m\n",
      "\u001b[34m[03/09/2020 19:55:16 INFO 139733361231680] Epoch[38] Train-accuracy=0.682292\u001b[0m\n",
      "\u001b[34m[03/09/2020 19:55:16 INFO 139733361231680] Epoch[38] Time cost=2.391\u001b[0m\n",
      "\u001b[34m[03/09/2020 19:55:16 INFO 139733361231680] Epoch[38] Validation-accuracy=0.429688\u001b[0m\n",
      "\u001b[34m[03/09/2020 19:55:19 INFO 139733361231680] Epoch[39] Train-accuracy=0.682292\u001b[0m\n",
      "\u001b[34m[03/09/2020 19:55:19 INFO 139733361231680] Epoch[39] Time cost=2.368\u001b[0m\n",
      "\u001b[34m[03/09/2020 19:55:20 INFO 139733361231680] Epoch[39] Validation-accuracy=0.437500\u001b[0m\n",
      "\u001b[34m[03/09/2020 19:55:22 INFO 139733361231680] Epoch[40] Train-accuracy=0.645833\u001b[0m\n",
      "\u001b[34m[03/09/2020 19:55:22 INFO 139733361231680] Epoch[40] Time cost=2.341\u001b[0m\n",
      "\u001b[34m[03/09/2020 19:55:23 INFO 139733361231680] Epoch[40] Validation-accuracy=0.429688\u001b[0m\n",
      "\u001b[34m[03/09/2020 19:55:25 INFO 139733361231680] Epoch[41] Train-accuracy=0.734375\u001b[0m\n",
      "\u001b[34m[03/09/2020 19:55:25 INFO 139733361231680] Epoch[41] Time cost=2.390\u001b[0m\n",
      "\u001b[34m[03/09/2020 19:55:26 INFO 139733361231680] Epoch[41] Validation-accuracy=0.421875\u001b[0m\n",
      "\u001b[34m[03/09/2020 19:55:28 INFO 139733361231680] Epoch[42] Train-accuracy=0.651042\u001b[0m\n",
      "\u001b[34m[03/09/2020 19:55:28 INFO 139733361231680] Epoch[42] Time cost=2.332\u001b[0m\n",
      "\u001b[34m[03/09/2020 19:55:29 INFO 139733361231680] Epoch[42] Validation-accuracy=0.445312\u001b[0m\n",
      "\u001b[34m[03/09/2020 19:55:32 INFO 139733361231680] Epoch[43] Train-accuracy=0.723958\u001b[0m\n",
      "\u001b[34m[03/09/2020 19:55:32 INFO 139733361231680] Epoch[43] Time cost=2.385\u001b[0m\n",
      "\u001b[34m[03/09/2020 19:55:32 INFO 139733361231680] Epoch[43] Validation-accuracy=0.453125\u001b[0m\n",
      "\u001b[34m[03/09/2020 19:55:35 INFO 139733361231680] Epoch[44] Train-accuracy=0.598958\u001b[0m\n",
      "\u001b[34m[03/09/2020 19:55:35 INFO 139733361231680] Epoch[44] Time cost=2.359\u001b[0m\n",
      "\u001b[34m[03/09/2020 19:55:35 INFO 139733361231680] Epoch[44] Validation-accuracy=0.445312\u001b[0m\n",
      "\u001b[34m[03/09/2020 19:55:38 INFO 139733361231680] Epoch[45] Train-accuracy=0.666667\u001b[0m\n",
      "\u001b[34m[03/09/2020 19:55:38 INFO 139733361231680] Epoch[45] Time cost=2.392\u001b[0m\n",
      "\u001b[34m[03/09/2020 19:55:38 INFO 139733361231680] Epoch[45] Validation-accuracy=0.445312\u001b[0m\n",
      "\u001b[34m[03/09/2020 19:55:41 INFO 139733361231680] Epoch[46] Train-accuracy=0.697917\u001b[0m\n",
      "\u001b[34m[03/09/2020 19:55:41 INFO 139733361231680] Epoch[46] Time cost=2.419\u001b[0m\n",
      "\u001b[34m[03/09/2020 19:55:42 INFO 139733361231680] Epoch[46] Validation-accuracy=0.414062\u001b[0m\n",
      "\u001b[34m[03/09/2020 19:55:44 INFO 139733361231680] Epoch[47] Train-accuracy=0.666667\u001b[0m\n",
      "\u001b[34m[03/09/2020 19:55:44 INFO 139733361231680] Epoch[47] Time cost=2.379\u001b[0m\n",
      "\u001b[34m[03/09/2020 19:55:45 INFO 139733361231680] Epoch[47] Validation-accuracy=0.398438\u001b[0m\n",
      "\u001b[34m[03/09/2020 19:55:47 INFO 139733361231680] Epoch[48] Train-accuracy=0.708333\u001b[0m\n",
      "\u001b[34m[03/09/2020 19:55:47 INFO 139733361231680] Epoch[48] Time cost=2.339\u001b[0m\n",
      "\u001b[34m[03/09/2020 19:55:48 INFO 139733361231680] Epoch[48] Validation-accuracy=0.421875\u001b[0m\n",
      "\u001b[34m[03/09/2020 19:55:51 INFO 139733361231680] Epoch[49] Train-accuracy=0.729167\u001b[0m\n",
      "\u001b[34m[03/09/2020 19:55:51 INFO 139733361231680] Epoch[49] Time cost=2.430\u001b[0m\n",
      "\u001b[34m[03/09/2020 19:55:51 INFO 139733361231680] Epoch[49] Validation-accuracy=0.429688\u001b[0m\n"
     ]
    },
    {
     "name": "stdout",
     "output_type": "stream",
     "text": [
      "\n",
      "2020-03-09 19:56:06 Uploading - Uploading generated training model\n",
      "2020-03-09 19:56:06 Completed - Training job completed\n",
      "Training seconds: 288\n",
      "Billable seconds: 288\n"
     ]
    }
   ],
   "source": [
    "estimator.fit({\n",
    "    'train': s3_input_train,\n",
    "    'validation': s3_input_validation}, \n",
    "    job_name=job_name)"
   ]
  },
  {
   "cell_type": "markdown",
   "metadata": {},
   "source": [
    "# Create a tuning job"
   ]
  },
  {
   "cell_type": "code",
   "execution_count": 31,
   "metadata": {},
   "outputs": [],
   "source": [
    "hyperparameter_ranges = {\n",
    "    'learning_rate': ContinuousParameter(0.001, 1.0),\n",
    "    'mini_batch_size': IntegerParameter(16,64),\n",
    "    'optimizer': CategoricalParameter(['sgd','adam'])\n",
    "}\n",
    "\n",
    "objective_metric_name = 'validation:accuracy'\n",
    "objective_type = 'Maximize'\n",
    "max_jobs = 2\n",
    "max_parallel_jobs = 1"
   ]
  },
  {
   "cell_type": "code",
   "execution_count": 32,
   "metadata": {},
   "outputs": [
    {
     "name": "stdout",
     "output_type": "stream",
     "text": [
      "tune-job-2020-03-10-08-13-25\n"
     ]
    }
   ],
   "source": [
    "job_name_prefix = 'tune-job'\n",
    "timestamp = time.strftime('-%Y-%m-%d-%H-%M-%S', time.gmtime())\n",
    "job_name = job_name_prefix + timestamp\n",
    "print(job_name)"
   ]
  },
  {
   "cell_type": "code",
   "execution_count": 33,
   "metadata": {},
   "outputs": [],
   "source": [
    "tuner = HyperparameterTuner(estimator=estimator,\n",
    "                          objective_metric_name=objective_metric_name,\n",
    "                          hyperparameter_ranges=hyperparameter_ranges,\n",
    "                          objective_type=objective_type,\n",
    "                          max_jobs=max_jobs,\n",
    "                          max_parallel_jobs=max_parallel_jobs)"
   ]
  },
  {
   "cell_type": "code",
   "execution_count": 34,
   "metadata": {},
   "outputs": [
    {
     "name": "stdout",
     "output_type": "stream",
     "text": [
      "................................................................................................................................................................................................................!\n"
     ]
    }
   ],
   "source": [
    "tuner.fit({\n",
    "    'train': s3_input_train,\n",
    "    'validation': s3_input_validation,\n",
    "}, job_name=job_name)\n",
    "\n",
    "tuner.wait()"
   ]
  },
  {
   "cell_type": "markdown",
   "metadata": {},
   "source": [
    "# Deploy model"
   ]
  },
  {
   "cell_type": "code",
   "execution_count": 36,
   "metadata": {},
   "outputs": [],
   "source": [
    "role = get_execution_role()\n",
    "hosting_image = get_image_uri(boto3.Session().region_name, 'image-classification')"
   ]
  },
  {
   "cell_type": "code",
   "execution_count": 39,
   "metadata": {},
   "outputs": [],
   "source": [
    "instance_count = 1\n",
    "instance_type = 'ml.m4.xlarge'"
   ]
  },
  {
   "cell_type": "code",
   "execution_count": 53,
   "metadata": {},
   "outputs": [
    {
     "name": "stdout",
     "output_type": "stream",
     "text": [
      "food-zone-model-2020-03-10-09-36-1583832972\n"
     ]
    }
   ],
   "source": [
    "model_name_prefix = 'food-zone-model'\n",
    "timestamp = time.strftime('-%Y-%m-%d-%H-%M-%s', time.gmtime())\n",
    "model_name = model_name_prefix + timestamp\n",
    "print(model_name)"
   ]
  },
  {
   "cell_type": "code",
   "execution_count": 57,
   "metadata": {},
   "outputs": [],
   "source": [
    "model_path = 's3://food-zone//output/tune-job-2020-03-10-08-13-25-001-0aa7d686/output/model.tar.gz'\n",
    "model = Model(\n",
    "    name=model_name,\n",
    "    model_data = model_path,\n",
    "    image=hosting_image,\n",
    "    role=role,\n",
    "    predictor_cls=lambda endpoint_name, sagemaker_session: RealTimePredictor(endpoint_name, sagemaker_session)\n",
    ")"
   ]
  },
  {
   "cell_type": "code",
   "execution_count": 58,
   "metadata": {},
   "outputs": [
    {
     "name": "stdout",
     "output_type": "stream",
     "text": [
      "food-zone-model-2020-03-10-09-36-1583833018\n"
     ]
    }
   ],
   "source": [
    "endpoint_name_prefix = 'food-zone-model'\n",
    "timestamp = time.strftime('-%Y-%m-%d-%H-%M-%s', time.gmtime())\n",
    "endpoint_name = endpoint_name_prefix + timestamp\n",
    "print(endpoint_name)"
   ]
  },
  {
   "cell_type": "code",
   "execution_count": 59,
   "metadata": {},
   "outputs": [
    {
     "name": "stdout",
     "output_type": "stream",
     "text": [
      "-----------------!"
     ]
    }
   ],
   "source": [
    "predictor = model.deploy(\n",
    "    endpoint_name=endpoint_name,\n",
    "    initial_instance_count=instance_count,\n",
    "    instance_type=instance_type)"
   ]
  },
  {
   "cell_type": "code",
   "execution_count": 64,
   "metadata": {},
   "outputs": [],
   "source": [
    "def predict_food(image_file):\n",
    "    with open(image_file, 'rb') as f:\n",
    "        payload = f.read()\n",
    "        payload = bytearray(payload)\n",
    "        \n",
    "    response = predictor.predict(payload)\n",
    "    result = json.loads(response)\n",
    "    \n",
    "    print(result)\n",
    "    \n",
    "    predicted_class = np.argmax(result)\n",
    "    if predicted_class == 0:\n",
    "        print('enchiladas')\n",
    "    else:\n",
    "        print('taco')"
   ]
  },
  {
   "cell_type": "code",
   "execution_count": 65,
   "metadata": {},
   "outputs": [
    {
     "name": "stdout",
     "output_type": "stream",
     "text": [
      "[0.4550020396709442, 0.5449979305267334]\n",
      "taco\n"
     ]
    }
   ],
   "source": [
    "predict_food('images/enchiladas/1382541970364.jpeg')"
   ]
  },
  {
   "cell_type": "code",
   "execution_count": 66,
   "metadata": {},
   "outputs": [
    {
     "name": "stdout",
     "output_type": "stream",
     "text": [
      "[0.4618596136569977, 0.5381404161453247]\n",
      "taco\n"
     ]
    }
   ],
   "source": [
    "predict_food('images/taco/39654.jpg')"
   ]
  },
  {
   "cell_type": "code",
   "execution_count": 69,
   "metadata": {},
   "outputs": [
    {
     "ename": "ClientError",
     "evalue": "An error occurred (ValidationException) when calling the DeleteEndpoint operation: Could not find endpoint \"arn:aws:sagemaker:us-east-1:756448110530:endpoint/food-zone-model-2020-03-10-09-36-1583833018\".",
     "output_type": "error",
     "traceback": [
      "\u001b[0;31m---------------------------------------------------------------------------\u001b[0m",
      "\u001b[0;31mClientError\u001b[0m                               Traceback (most recent call last)",
      "\u001b[0;32m<ipython-input-69-798c35d4b559>\u001b[0m in \u001b[0;36m<module>\u001b[0;34m()\u001b[0m\n\u001b[0;32m----> 1\u001b[0;31m \u001b[0msagemaker\u001b[0m\u001b[0;34m.\u001b[0m\u001b[0mSession\u001b[0m\u001b[0;34m(\u001b[0m\u001b[0;34m)\u001b[0m\u001b[0;34m.\u001b[0m\u001b[0mdelete_endpoint\u001b[0m\u001b[0;34m(\u001b[0m\u001b[0mendpoint_name\u001b[0m\u001b[0;34m)\u001b[0m\u001b[0;34m\u001b[0m\u001b[0m\n\u001b[0m",
      "\u001b[0;32m~/anaconda3/envs/mxnet_p36/lib/python3.6/site-packages/sagemaker/session.py\u001b[0m in \u001b[0;36mdelete_endpoint\u001b[0;34m(self, endpoint_name)\u001b[0m\n\u001b[1;32m   2424\u001b[0m         \"\"\"\n\u001b[1;32m   2425\u001b[0m         \u001b[0mLOGGER\u001b[0m\u001b[0;34m.\u001b[0m\u001b[0minfo\u001b[0m\u001b[0;34m(\u001b[0m\u001b[0;34m\"Deleting endpoint with name: %s\"\u001b[0m\u001b[0;34m,\u001b[0m \u001b[0mendpoint_name\u001b[0m\u001b[0;34m)\u001b[0m\u001b[0;34m\u001b[0m\u001b[0m\n\u001b[0;32m-> 2426\u001b[0;31m         \u001b[0mself\u001b[0m\u001b[0;34m.\u001b[0m\u001b[0msagemaker_client\u001b[0m\u001b[0;34m.\u001b[0m\u001b[0mdelete_endpoint\u001b[0m\u001b[0;34m(\u001b[0m\u001b[0mEndpointName\u001b[0m\u001b[0;34m=\u001b[0m\u001b[0mendpoint_name\u001b[0m\u001b[0;34m)\u001b[0m\u001b[0;34m\u001b[0m\u001b[0m\n\u001b[0m\u001b[1;32m   2427\u001b[0m \u001b[0;34m\u001b[0m\u001b[0m\n\u001b[1;32m   2428\u001b[0m     \u001b[0;32mdef\u001b[0m \u001b[0mdelete_endpoint_config\u001b[0m\u001b[0;34m(\u001b[0m\u001b[0mself\u001b[0m\u001b[0;34m,\u001b[0m \u001b[0mendpoint_config_name\u001b[0m\u001b[0;34m)\u001b[0m\u001b[0;34m:\u001b[0m\u001b[0;34m\u001b[0m\u001b[0m\n",
      "\u001b[0;32m~/anaconda3/envs/mxnet_p36/lib/python3.6/site-packages/botocore/client.py\u001b[0m in \u001b[0;36m_api_call\u001b[0;34m(self, *args, **kwargs)\u001b[0m\n\u001b[1;32m    274\u001b[0m                     \"%s() only accepts keyword arguments.\" % py_operation_name)\n\u001b[1;32m    275\u001b[0m             \u001b[0;31m# The \"self\" in this scope is referring to the BaseClient.\u001b[0m\u001b[0;34m\u001b[0m\u001b[0;34m\u001b[0m\u001b[0m\n\u001b[0;32m--> 276\u001b[0;31m             \u001b[0;32mreturn\u001b[0m \u001b[0mself\u001b[0m\u001b[0;34m.\u001b[0m\u001b[0m_make_api_call\u001b[0m\u001b[0;34m(\u001b[0m\u001b[0moperation_name\u001b[0m\u001b[0;34m,\u001b[0m \u001b[0mkwargs\u001b[0m\u001b[0;34m)\u001b[0m\u001b[0;34m\u001b[0m\u001b[0m\n\u001b[0m\u001b[1;32m    277\u001b[0m \u001b[0;34m\u001b[0m\u001b[0m\n\u001b[1;32m    278\u001b[0m         \u001b[0m_api_call\u001b[0m\u001b[0;34m.\u001b[0m\u001b[0m__name__\u001b[0m \u001b[0;34m=\u001b[0m \u001b[0mstr\u001b[0m\u001b[0;34m(\u001b[0m\u001b[0mpy_operation_name\u001b[0m\u001b[0;34m)\u001b[0m\u001b[0;34m\u001b[0m\u001b[0m\n",
      "\u001b[0;32m~/anaconda3/envs/mxnet_p36/lib/python3.6/site-packages/botocore/client.py\u001b[0m in \u001b[0;36m_make_api_call\u001b[0;34m(self, operation_name, api_params)\u001b[0m\n\u001b[1;32m    584\u001b[0m             \u001b[0merror_code\u001b[0m \u001b[0;34m=\u001b[0m \u001b[0mparsed_response\u001b[0m\u001b[0;34m.\u001b[0m\u001b[0mget\u001b[0m\u001b[0;34m(\u001b[0m\u001b[0;34m\"Error\"\u001b[0m\u001b[0;34m,\u001b[0m \u001b[0;34m{\u001b[0m\u001b[0;34m}\u001b[0m\u001b[0;34m)\u001b[0m\u001b[0;34m.\u001b[0m\u001b[0mget\u001b[0m\u001b[0;34m(\u001b[0m\u001b[0;34m\"Code\"\u001b[0m\u001b[0;34m)\u001b[0m\u001b[0;34m\u001b[0m\u001b[0m\n\u001b[1;32m    585\u001b[0m             \u001b[0merror_class\u001b[0m \u001b[0;34m=\u001b[0m \u001b[0mself\u001b[0m\u001b[0;34m.\u001b[0m\u001b[0mexceptions\u001b[0m\u001b[0;34m.\u001b[0m\u001b[0mfrom_code\u001b[0m\u001b[0;34m(\u001b[0m\u001b[0merror_code\u001b[0m\u001b[0;34m)\u001b[0m\u001b[0;34m\u001b[0m\u001b[0m\n\u001b[0;32m--> 586\u001b[0;31m             \u001b[0;32mraise\u001b[0m \u001b[0merror_class\u001b[0m\u001b[0;34m(\u001b[0m\u001b[0mparsed_response\u001b[0m\u001b[0;34m,\u001b[0m \u001b[0moperation_name\u001b[0m\u001b[0;34m)\u001b[0m\u001b[0;34m\u001b[0m\u001b[0m\n\u001b[0m\u001b[1;32m    587\u001b[0m         \u001b[0;32melse\u001b[0m\u001b[0;34m:\u001b[0m\u001b[0;34m\u001b[0m\u001b[0m\n\u001b[1;32m    588\u001b[0m             \u001b[0;32mreturn\u001b[0m \u001b[0mparsed_response\u001b[0m\u001b[0;34m\u001b[0m\u001b[0m\n",
      "\u001b[0;31mClientError\u001b[0m: An error occurred (ValidationException) when calling the DeleteEndpoint operation: Could not find endpoint \"arn:aws:sagemaker:us-east-1:756448110530:endpoint/food-zone-model-2020-03-10-09-36-1583833018\"."
     ]
    }
   ],
   "source": [
    "sagemaker.Session().delete_endpoint(endpoint_name)"
   ]
  },
  {
   "cell_type": "code",
   "execution_count": 70,
   "metadata": {},
   "outputs": [],
   "source": [
    "sagemaker.Session().delete_model(model_name)"
   ]
  },
  {
   "cell_type": "code",
   "execution_count": null,
   "metadata": {},
   "outputs": [],
   "source": []
  },
  {
   "cell_type": "code",
   "execution_count": null,
   "metadata": {},
   "outputs": [],
   "source": []
  }
 ],
 "metadata": {
  "kernelspec": {
   "display_name": "conda_mxnet_p36",
   "language": "python",
   "name": "conda_mxnet_p36"
  },
  "language_info": {
   "codemirror_mode": {
    "name": "ipython",
    "version": 3
   },
   "file_extension": ".py",
   "mimetype": "text/x-python",
   "name": "python",
   "nbconvert_exporter": "python",
   "pygments_lexer": "ipython3",
   "version": "3.6.5"
  }
 },
 "nbformat": 4,
 "nbformat_minor": 4
}
